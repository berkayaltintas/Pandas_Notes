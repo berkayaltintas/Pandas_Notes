{
 "cells": [
  {
   "cell_type": "markdown",
   "id": "72ead344-9600-4b10-9528-fab52112a119",
   "metadata": {},
   "source": [
    "# Pandas Serisi Oluşturmak (1) #"
   ]
  },
  {
   "cell_type": "markdown",
   "id": "4fbf6c6a-32b8-4cad-b9a1-1a442d0ccf4c",
   "metadata": {},
   "source": [
    "Bir pandas serisi nasıl oluşturulur ? İlk olarak PANDAS kütüphanesi import edilmelidir.\n"
   ]
  },
  {
   "cell_type": "code",
   "execution_count": 1,
   "id": "24f5ee90-f7d4-4c3d-be64-0f7c81d75532",
   "metadata": {},
   "outputs": [],
   "source": [
    "import pandas as pd\n"
   ]
  },
  {
   "cell_type": "code",
   "execution_count": 2,
   "id": "93573d0d-7d9f-4adb-b112-df6d7d4419b3",
   "metadata": {},
   "outputs": [
    {
     "data": {
      "text/plain": [
       "0    10\n",
       "1    50\n",
       "2    60\n",
       "3    85\n",
       "4    58\n",
       "dtype: int64"
      ]
     },
     "execution_count": 2,
     "metadata": {},
     "output_type": "execute_result"
    }
   ],
   "source": [
    "pd.Series([10,50,60,85,58]) "
   ]
  },
  {
   "cell_type": "markdown",
   "id": "948edde7-cac6-4cda-a731-1f7f32743ef7",
   "metadata": {},
   "source": [
    "Pandas serisi bu şekilde aynı Numpyda da olduğu gibi oluşturulur."
   ]
  },
  {
   "cell_type": "code",
   "execution_count": 14,
   "id": "d95b910b-70c1-4324-ac6a-2b8aca367b08",
   "metadata": {},
   "outputs": [
    {
     "data": {
      "text/plain": [
       "0    10\n",
       "1    50\n",
       "2    60\n",
       "3    85\n",
       "4    58\n",
       "5    35\n",
       "6    65\n",
       "dtype: int64"
      ]
     },
     "execution_count": 14,
     "metadata": {},
     "output_type": "execute_result"
    }
   ],
   "source": [
    "seri=pd.Series([10,50,60,85,58,35,65]) \n",
    "seri"
   ]
  },
  {
   "cell_type": "code",
   "execution_count": 5,
   "id": "5c1eed58-6145-4255-9395-b7069b63d1d7",
   "metadata": {},
   "outputs": [
    {
     "data": {
      "text/plain": [
       "dtype('int64')"
      ]
     },
     "execution_count": 5,
     "metadata": {},
     "output_type": "execute_result"
    }
   ],
   "source": [
    "seri.dtype #---> Böyle sorgulayarak tip bilgisi hakkında bilgi sahibi olabiliriz."
   ]
  },
  {
   "cell_type": "code",
   "execution_count": 6,
   "id": "9f86381d-3f69-46fe-8a47-920647e08bb6",
   "metadata": {},
   "outputs": [
    {
     "data": {
      "text/plain": [
       "1"
      ]
     },
     "execution_count": 6,
     "metadata": {},
     "output_type": "execute_result"
    }
   ],
   "source": [
    "seri.ndim #--> ndim kullanarak boyut sayısı hakkında bilgi alabiliriz.(Tek boyutlu bir vektör)"
   ]
  },
  {
   "cell_type": "code",
   "execution_count": 17,
   "id": "41278e02-fcc0-4f4d-a01d-7ad7dfc6b49d",
   "metadata": {},
   "outputs": [
    {
     "data": {
      "text/plain": [
       "7"
      ]
     },
     "execution_count": 17,
     "metadata": {},
     "output_type": "execute_result"
    }
   ],
   "source": [
    "seri.size #-->Size kullanarak elaman sayısı hakkında bilgi alabiliriz."
   ]
  },
  {
   "cell_type": "code",
   "execution_count": 18,
   "id": "f6816b05-98ec-45be-bb47-40686381c386",
   "metadata": {},
   "outputs": [
    {
     "data": {
      "text/plain": [
       "array([10, 50, 60, 85, 58, 35, 65], dtype=int64)"
      ]
     },
     "execution_count": 18,
     "metadata": {},
     "output_type": "execute_result"
    }
   ],
   "source": [
    "seri.values #-->İçindeki bilgileri değerleri almak istersek bunu kullanabiliriz."
   ]
  },
  {
   "cell_type": "code",
   "execution_count": 16,
   "id": "077dc524-1bad-4979-b06d-b6822b94b315",
   "metadata": {},
   "outputs": [
    {
     "data": {
      "text/plain": [
       "0    10\n",
       "1    50\n",
       "2    60\n",
       "dtype: int64"
      ]
     },
     "execution_count": 16,
     "metadata": {},
     "output_type": "execute_result"
    }
   ],
   "source": [
    "seri.head(3) #head() fonksiyonu kullanarak ilk bir kaç bilgiyi getirebiliriz. "
   ]
  },
  {
   "cell_type": "code",
   "execution_count": 15,
   "id": "2c235878-0d5a-4fdf-82c7-ce200ce43b5a",
   "metadata": {},
   "outputs": [
    {
     "data": {
      "text/plain": [
       "5    35\n",
       "6    65\n",
       "dtype: int64"
      ]
     },
     "execution_count": 15,
     "metadata": {},
     "output_type": "execute_result"
    }
   ],
   "source": [
    "seri.tail(2) #tail() fonksiyonunu kullanarak sondan istediğimiz kadar fonksiyonu getirebiliriz."
   ]
  },
  {
   "cell_type": "markdown",
   "id": "3c7ea3e9-1886-4669-9bb9-0c42b6872d0e",
   "metadata": {},
   "source": [
    "**İndexler sadece sayı olmak zorunda değildir**"
   ]
  },
  {
   "cell_type": "code",
   "execution_count": 27,
   "id": "77a682fc-afe8-4e09-a35e-466fc56e326e",
   "metadata": {},
   "outputs": [
    {
     "data": {
      "text/plain": [
       "a    11\n",
       "b    22\n",
       "c    33\n",
       "d    34\n",
       "e    55\n",
       "f    66\n",
       "g    99\n",
       "dtype: int64"
      ]
     },
     "execution_count": 27,
     "metadata": {},
     "output_type": "execute_result"
    }
   ],
   "source": [
    "pd.Series([11,22,33,34,55,66,99], index=[\"a\",\"b\",\"c\",\"d\",\"e\",\"f\",\"g\"])\n"
   ]
  },
  {
   "cell_type": "code",
   "execution_count": 28,
   "id": "986c7f1d-5ecc-44aa-8a95-f8efea395b88",
   "metadata": {},
   "outputs": [],
   "source": [
    "seri=pd.Series([11,22,33,34,55,66,99], index=[\"a\",\"b\",\"c\",\"d\",\"e\",\"f\",\"g\"])"
   ]
  },
  {
   "cell_type": "markdown",
   "id": "8e8e3097-b7ff-4a35-aa84-e9035afd4268",
   "metadata": {},
   "source": [
    "Görüldüğü üzere sözlük yapılarıyla benzerlik göstermektedir.Bu şekilde indexleri değiştirebiliyoruz.\n"
   ]
  },
  {
   "cell_type": "code",
   "execution_count": 29,
   "id": "0196ffbe-8280-4ca8-a682-e14f1f76eeca",
   "metadata": {},
   "outputs": [
    {
     "data": {
      "text/plain": [
       "11"
      ]
     },
     "execution_count": 29,
     "metadata": {},
     "output_type": "execute_result"
    }
   ],
   "source": [
    "seri[\"a\"] #--> Bu şekilde a indexine karşılık gelen değeri bulmuş olduk."
   ]
  },
  {
   "cell_type": "code",
   "execution_count": 30,
   "id": "1658ba7e-2712-40e5-95e1-025287d99d64",
   "metadata": {},
   "outputs": [
    {
     "data": {
      "text/plain": [
       "a    11\n",
       "b    22\n",
       "c    33\n",
       "dtype: int64"
      ]
     },
     "execution_count": 30,
     "metadata": {},
     "output_type": "execute_result"
    }
   ],
   "source": [
    "seri[\"a\":\"c\"] # a --->c doğru git (slice işlemi yapılmıştır.)"
   ]
  },
  {
   "cell_type": "markdown",
   "id": "feebf84b-5acb-496b-8135-03e5b1c0b7ef",
   "metadata": {},
   "source": [
    "## Sözlükler üzerinden de liste işlemi yapabiliriz. ##"
   ]
  },
  {
   "cell_type": "code",
   "execution_count": 31,
   "id": "0ef36b01-d9a6-45a4-a0e8-eb7e95b4fc1a",
   "metadata": {},
   "outputs": [],
   "source": [
    "sozluk = pd.Series({\"kobe\":24,\"lebron\":6,\"jordan\":23})"
   ]
  },
  {
   "cell_type": "code",
   "execution_count": 32,
   "id": "59b0f087-c74b-425f-bf22-bd582eaf9ada",
   "metadata": {},
   "outputs": [
    {
     "data": {
      "text/plain": [
       "kobe      24\n",
       "lebron     6\n",
       "jordan    23\n",
       "dtype: int64"
      ]
     },
     "execution_count": 32,
     "metadata": {},
     "output_type": "execute_result"
    }
   ],
   "source": [
    "seri=pd.Series(sozluk)\n",
    "seri"
   ]
  },
  {
   "cell_type": "markdown",
   "id": "20435c6b-9e76-4550-b063-7a72d39d5468",
   "metadata": {},
   "source": [
    "_Görüldüğü üzere pd.Series içine sozluk yazılıp istediğimiz şekilde pandas listesi oluşturmuş olduk._"
   ]
  },
  {
   "cell_type": "markdown",
   "id": "1a39a681-15f9-418e-bd10-eb501364c2e8",
   "metadata": {},
   "source": [
    "## İki seriyi nasıl birleştirebiliriz? ##"
   ]
  },
  {
   "cell_type": "code",
   "execution_count": 33,
   "id": "675a9106-a819-4416-b3f0-560753490f79",
   "metadata": {},
   "outputs": [
    {
     "data": {
      "text/plain": [
       "kobe      24\n",
       "lebron     6\n",
       "jordan    23\n",
       "kobe      24\n",
       "lebron     6\n",
       "jordan    23\n",
       "dtype: int64"
      ]
     },
     "execution_count": 33,
     "metadata": {},
     "output_type": "execute_result"
    }
   ],
   "source": [
    "pd.concat([seri,seri])"
   ]
  },
  {
   "cell_type": "markdown",
   "id": "645709c5-5ac6-46ef-a929-8e85d7c9770c",
   "metadata": {},
   "source": [
    "Burada concat() içine köşeli parantezleri koymak şartıyla oluşturabiliriz."
   ]
  },
  {
   "cell_type": "code",
   "execution_count": null,
   "id": "b3adbca7-be08-4ea6-a5c5-6f2ed67100b2",
   "metadata": {},
   "outputs": [],
   "source": []
  }
 ],
 "metadata": {
  "kernelspec": {
   "display_name": "Python 3 (ipykernel)",
   "language": "python",
   "name": "python3"
  },
  "language_info": {
   "codemirror_mode": {
    "name": "ipython",
    "version": 3
   },
   "file_extension": ".py",
   "mimetype": "text/x-python",
   "name": "python",
   "nbconvert_exporter": "python",
   "pygments_lexer": "ipython3",
   "version": "3.9.12"
  }
 },
 "nbformat": 4,
 "nbformat_minor": 5
}
