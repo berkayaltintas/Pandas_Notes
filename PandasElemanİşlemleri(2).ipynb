{
 "cells": [
  {
   "cell_type": "markdown",
   "id": "d5f4dd57-9527-4098-ac0e-837bed638cb6",
   "metadata": {},
   "source": [
    "# Pandas Eleman İşlemleri (2) #"
   ]
  },
  {
   "cell_type": "code",
   "execution_count": 4,
   "id": "934e4aec-b21b-4b03-9ffc-884080d67d04",
   "metadata": {},
   "outputs": [],
   "source": [
    "import numpy as np\n",
    "import pandas as pd\n",
    "a=np.array([1,233,56,98])\n",
    "seri=pd.Series(a) "
   ]
  },
  {
   "cell_type": "code",
   "execution_count": 5,
   "id": "dccb5ff9-1004-4b50-bec3-8c110b10cdc7",
   "metadata": {},
   "outputs": [
    {
     "data": {
      "text/plain": [
       "0      1\n",
       "1    233\n",
       "2     56\n",
       "3     98\n",
       "dtype: int32"
      ]
     },
     "execution_count": 5,
     "metadata": {},
     "output_type": "execute_result"
    }
   ],
   "source": [
    "seri"
   ]
  },
  {
   "cell_type": "markdown",
   "id": "98e092e6-8649-4985-8ecb-ec7e1654b91f",
   "metadata": {},
   "source": [
    "Görüldüğü üzere np.array inden pandas serisi(indexli hali) oluşturmuş olduk."
   ]
  },
  {
   "cell_type": "code",
   "execution_count": 6,
   "id": "ac0c4343-54c2-4727-b014-bacf1ab713d4",
   "metadata": {},
   "outputs": [
    {
     "data": {
      "text/plain": [
       "1"
      ]
     },
     "execution_count": 6,
     "metadata": {},
     "output_type": "execute_result"
    }
   ],
   "source": [
    "seri[0] #--> Sıfırıncı indexi bu şekilde bulduk."
   ]
  },
  {
   "cell_type": "code",
   "execution_count": 7,
   "id": "121e73da-b58b-4a6e-b9b5-a3894c28cd45",
   "metadata": {},
   "outputs": [
    {
     "data": {
      "text/plain": [
       "0      1\n",
       "1    233\n",
       "2     56\n",
       "dtype: int32"
      ]
     },
     "execution_count": 7,
     "metadata": {},
     "output_type": "execute_result"
    }
   ],
   "source": [
    "seri[0:3] # Sıfırdan üçe kadar(3 dahil değil)"
   ]
  },
  {
   "cell_type": "code",
   "execution_count": 8,
   "id": "447c92b1-c0ee-4834-9804-11cc152fed3a",
   "metadata": {},
   "outputs": [],
   "source": [
    "seri=pd.Series([22,0,1,12] ,index=[\"micic\",\"larkin\",\"debost\",\"clyburn\"] )\n"
   ]
  },
  {
   "cell_type": "code",
   "execution_count": 9,
   "id": "70b0d39a-c5af-4d12-bb75-d5e93bbcd73d",
   "metadata": {},
   "outputs": [
    {
     "data": {
      "text/plain": [
       "micic      22\n",
       "larkin      0\n",
       "debost      1\n",
       "clyburn    12\n",
       "dtype: int64"
      ]
     },
     "execution_count": 9,
     "metadata": {},
     "output_type": "execute_result"
    }
   ],
   "source": [
    "seri"
   ]
  },
  {
   "cell_type": "markdown",
   "id": "abda366f-399a-4f58-8be5-09d4caeceb8c",
   "metadata": {},
   "source": [
    "Şimdi bunların içindeki bilgilere ulaşmaya çalışalım."
   ]
  },
  {
   "cell_type": "code",
   "execution_count": 11,
   "id": "bb7f57b1-5a70-47f6-81aa-3d405b3c0e6e",
   "metadata": {},
   "outputs": [
    {
     "data": {
      "text/plain": [
       "Index(['micic', 'larkin', 'debost', 'clyburn'], dtype='object')"
      ]
     },
     "execution_count": 11,
     "metadata": {},
     "output_type": "execute_result"
    }
   ],
   "source": [
    "seri.index #-->İndex bilgileri verilmiştir."
   ]
  },
  {
   "cell_type": "code",
   "execution_count": 12,
   "id": "27cf753b-239a-4403-a2fb-4cc99a4b0c37",
   "metadata": {},
   "outputs": [
    {
     "data": {
      "text/plain": [
       "<bound method Series.keys of micic      22\n",
       "larkin      0\n",
       "debost      1\n",
       "clyburn    12\n",
       "dtype: int64>"
      ]
     },
     "execution_count": 12,
     "metadata": {},
     "output_type": "execute_result"
    }
   ],
   "source": [
    "seri.keys"
   ]
  },
  {
   "cell_type": "code",
   "execution_count": 13,
   "id": "fb07c834-5d5b-4c79-b3fc-74b9c4638391",
   "metadata": {},
   "outputs": [
    {
     "data": {
      "text/plain": [
       "[('micic', 22), ('larkin', 0), ('debost', 1), ('clyburn', 12)]"
      ]
     },
     "execution_count": 13,
     "metadata": {},
     "output_type": "execute_result"
    }
   ],
   "source": [
    "list(seri.items()) #--> Bu key and value olarak alabiliriz."
   ]
  },
  {
   "cell_type": "markdown",
   "id": "a3a20f50-36f8-43c1-84dd-27c66c3548bc",
   "metadata": {},
   "source": [
    "## Şimdi ise eleman sorgulama işlemi yapalım. ##"
   ]
  },
  {
   "cell_type": "code",
   "execution_count": 14,
   "id": "6cf9ca1b-6263-4125-a9fb-8e4b30ef89dd",
   "metadata": {},
   "outputs": [
    {
     "data": {
      "text/plain": [
       "True"
      ]
     },
     "execution_count": 14,
     "metadata": {},
     "output_type": "execute_result"
    }
   ],
   "source": [
    "\"micic\" in seri"
   ]
  },
  {
   "cell_type": "code",
   "execution_count": 15,
   "id": "90a504f5-345b-4f10-9dbb-f2585721957e",
   "metadata": {},
   "outputs": [
    {
     "data": {
      "text/plain": [
       "False"
      ]
     },
     "execution_count": 15,
     "metadata": {},
     "output_type": "execute_result"
    }
   ],
   "source": [
    "\"bogdanovic\" in seri"
   ]
  },
  {
   "cell_type": "markdown",
   "id": "ff0c1d78-0974-4925-8ace-cf148abded6e",
   "metadata": {},
   "source": [
    "Fancy işlemi ile yapalım."
   ]
  },
  {
   "cell_type": "code",
   "execution_count": 16,
   "id": "cd133bc8-c863-4417-995e-e4f8a6712a51",
   "metadata": {},
   "outputs": [
    {
     "data": {
      "text/plain": [
       "22"
      ]
     },
     "execution_count": 16,
     "metadata": {},
     "output_type": "execute_result"
    }
   ],
   "source": [
    "seri[\"micic\"]"
   ]
  },
  {
   "cell_type": "code",
   "execution_count": 18,
   "id": "51973e51-88d3-4ac8-af13-33f361186acd",
   "metadata": {},
   "outputs": [
    {
     "data": {
      "text/plain": [
       "larkin    0\n",
       "debost    1\n",
       "dtype: int64"
      ]
     },
     "execution_count": 18,
     "metadata": {},
     "output_type": "execute_result"
    }
   ],
   "source": [
    "seri[[\"larkin\",\"debost\"]] #seri[\"larkin\",\"debost\"]-->'key of type tuple not found and not a MultiIndex' hatası alırız."
   ]
  },
  {
   "cell_type": "markdown",
   "id": "7967b451-c864-4d98-bb5f-4b1195ebafad",
   "metadata": {},
   "source": [
    "Fancy işlemi yaparsak iki tane iç içe köşeli parantez kullanırız(Hata almamak için)"
   ]
  },
  {
   "cell_type": "code",
   "execution_count": null,
   "id": "fb408697-5156-4825-9bad-da7010b7921d",
   "metadata": {},
   "outputs": [],
   "source": []
  },
  {
   "cell_type": "code",
   "execution_count": null,
   "id": "2e7b0434-bf41-40a5-8d87-2b2f288df063",
   "metadata": {},
   "outputs": [],
   "source": []
  }
 ],
 "metadata": {
  "kernelspec": {
   "display_name": "Python 3 (ipykernel)",
   "language": "python",
   "name": "python3"
  },
  "language_info": {
   "codemirror_mode": {
    "name": "ipython",
    "version": 3
   },
   "file_extension": ".py",
   "mimetype": "text/x-python",
   "name": "python",
   "nbconvert_exporter": "python",
   "pygments_lexer": "ipython3",
   "version": "3.9.12"
  }
 },
 "nbformat": 4,
 "nbformat_minor": 5
}
